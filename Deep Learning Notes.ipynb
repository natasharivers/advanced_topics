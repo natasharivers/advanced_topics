{
 "cells": [
  {
   "cell_type": "markdown",
   "metadata": {},
   "source": [
    "# Deep Learning Overview"
   ]
  },
  {
   "cell_type": "markdown",
   "metadata": {},
   "source": [
    "# Artificial Intelligence ----> Machine Learning ----> Deep Learning"
   ]
  },
  {
   "cell_type": "markdown",
   "metadata": {},
   "source": [
    "### Artificial Intelligence \n",
    "    - the general act of training computers to make decisions.   Its our broadest term.\n",
    "\n",
    "### Machine Learning \n",
    "    - one tactic we utilize to realize AI.  It involves taking algorithms (like the ones we have examined) and training them into models.\n",
    "\n",
    "### Deep Learning \n",
    "    - a tactic that lives within Machine Learning, that is to say that it is a speciic application of Machine Learning.  Deep Learning is Machine learning that is contingent on a specific type of algorithm type: the Artificial Neural Network.  From this point, we can drill down further, as there are many different structures that are all part of the artificial neural network (ANN) family of models!"
   ]
  },
  {
   "cell_type": "markdown",
   "metadata": {},
   "source": [
    "<hr style=\"border:2px solid black\"> </hr>"
   ]
  },
  {
   "cell_type": "markdown",
   "metadata": {},
   "source": [
    "### Use Cases:\n",
    "    - automated driving\n",
    "    - NLP story generators\n",
    "    - predictive texts\n",
    "    - image generation\n",
    "    "
   ]
  },
  {
   "cell_type": "markdown",
   "metadata": {},
   "source": [
    "<hr style=\"border:2px solid black\"> </hr>"
   ]
  },
  {
   "cell_type": "markdown",
   "metadata": {},
   "source": [
    "**MLP**: Multi-layer perceptron\n",
    "   - 1st and most basic type of artificial network"
   ]
  },
  {
   "cell_type": "markdown",
   "metadata": {},
   "source": [
    "- inputs\n",
    "- hidden layer\n",
    "- output layer"
   ]
  },
  {
   "cell_type": "markdown",
   "metadata": {},
   "source": [
    "- Neuron Components:\n",
    "    - A0: W0\n",
    "    - A1: input weights, W1\n",
    "    - A2: W2\n",
    "        \n",
    "- (w0 * a0 + w1 * a1 + w2 * a2 + bias)"
   ]
  },
  {
   "cell_type": "markdown",
   "metadata": {},
   "source": [
    "<hr style=\"border:2px solid black\"> </hr>"
   ]
  },
  {
   "cell_type": "markdown",
   "metadata": {},
   "source": [
    "# What's a tensor, exactly?\n",
    "     A tensor is a fancy word to describe higher dimensionality daata than just a scalar, vector or matrix.\n",
    "\n",
    "### Vocab\n",
    "- **Scalar**: one-dimensional singular data point, like a single number. A zero degree tensor\n",
    "- **Matrix**: an array of vectors. A second degree tensor\n",
    "- **Vector**: we can represent it as a one-dimenional array of multiple numbers. First degree tensor"
   ]
  },
  {
   "cell_type": "markdown",
   "metadata": {},
   "source": [
    "### Gradient Descent\n",
    "- Goal: minimuize loss\n",
    "- How: using calculus"
   ]
  },
  {
   "cell_type": "markdown",
   "metadata": {},
   "source": [
    "<hr style=\"border:2px solid black\"> </hr>"
   ]
  },
  {
   "cell_type": "markdown",
   "metadata": {},
   "source": [
    "## MNIST Database: \n",
    "    a large database of hadnwritten digits used to train image processing systems"
   ]
  },
  {
   "cell_type": "markdown",
   "metadata": {},
   "source": [
    "- scale goes from 0 <-----> 255\n",
    "- totally white <----> totally black"
   ]
  },
  {
   "cell_type": "markdown",
   "metadata": {},
   "source": [
    "<hr style=\"border:2px solid black\"> </hr>"
   ]
  },
  {
   "cell_type": "markdown",
   "metadata": {},
   "source": [
    "## Useful Libraries\n",
    "- TensorFlow: most common library\n",
    "- Pytorch: most popular in academia"
   ]
  },
  {
   "cell_type": "markdown",
   "metadata": {},
   "source": [
    "<hr style=\"border:2px solid black\"> </hr>"
   ]
  },
  {
   "cell_type": "code",
   "execution_count": null,
   "metadata": {},
   "outputs": [],
   "source": []
  }
 ],
 "metadata": {
  "kernelspec": {
   "display_name": "Python 3",
   "language": "python",
   "name": "python3"
  },
  "language_info": {
   "codemirror_mode": {
    "name": "ipython",
    "version": 3
   },
   "file_extension": ".py",
   "mimetype": "text/x-python",
   "name": "python",
   "nbconvert_exporter": "python",
   "pygments_lexer": "ipython3",
   "version": "3.8.5"
  }
 },
 "nbformat": 4,
 "nbformat_minor": 4
}
